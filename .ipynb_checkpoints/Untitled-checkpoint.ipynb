{
 "cells": [
  {
   "cell_type": "code",
   "execution_count": 3,
   "id": "98d85fec-34bd-49d8-8fea-f4faa78d9a7d",
   "metadata": {},
   "outputs": [
    {
     "name": "stdout",
     "output_type": "stream",
     "text": [
      "hello\n"
     ]
    }
   ],
   "source": [
    "print('hello')"
   ]
  },
  {
   "cell_type": "code",
   "execution_count": 6,
   "id": "ff507203-3b3f-432c-8140-7d556aecc40e",
   "metadata": {},
   "outputs": [
    {
     "name": "stdout",
     "output_type": "stream",
     "text": [
      "cinic issue\n"
     ]
    }
   ],
   "source": [
    "age = 18\n",
    "if age:\n",
    "    print(\"cinic issue\")\n",
    "else:\n",
    "    print(\"cnic not issue\")"
   ]
  },
  {
   "cell_type": "code",
   "execution_count": 53,
   "id": "c387cce8-e00f-4a1f-af47-85c3eb8ef80b",
   "metadata": {},
   "outputs": [],
   "source": [
    "marks= 55\n",
    "\n",
    "if marks >90:\n",
    "    print(\"grade A\")\n",
    "elif marks > 80:\n",
    "    print(\"grade B\")\n",
    "elif marks > 70:\n",
    "    print(\"grade c\")\n",
    "elif marks > 60:\n",
    "    print(\"grade d\")\n",
    "elif marks <= 50:\n",
    "    print(\"grade fail\")"
   ]
  }
 ],
 "metadata": {
  "kernelspec": {
   "display_name": "Python 3 (ipykernel)",
   "language": "python",
   "name": "python3"
  },
  "language_info": {
   "codemirror_mode": {
    "name": "ipython",
    "version": 3
   },
   "file_extension": ".py",
   "mimetype": "text/x-python",
   "name": "python",
   "nbconvert_exporter": "python",
   "pygments_lexer": "ipython3",
   "version": "3.12.7"
  }
 },
 "nbformat": 4,
 "nbformat_minor": 5
}
