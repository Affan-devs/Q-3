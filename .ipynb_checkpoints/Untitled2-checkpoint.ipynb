{
 "cells": [
  {
   "cell_type": "code",
   "execution_count": null,
   "id": "a84fb6a8-170c-44a2-8d57-0f4f54b00939",
   "metadata": {},
   "outputs": [],
   "source": [
    "def validate_inputs(inputs_dict):\n",
    "    missing = [field for field, value in inputs_dict.items() if not value]\n",
    "    \n",
    "    if missing:\n",
    "        print(f\"Missing required fields: {', '.join(missing)}\")\n",
    "        return False\n",
    "    return True\n",
    "\n",
    "# Example with many inputs\n",
    "user_data = {\n",
    "    \"name\": input(\"Enter name: \"),\n",
    "    \"age\": input(\"Enter age: \"),\n",
    "    \"email\": input(\"Enter email: \"),\n",
    "    \"phone\": input(\"Enter phone: \"),\n",
    "    \"address\": input(\"Enter address: \"),\n",
    "    \"city\": input(\"Enter city: \"),\n",
    "    \"country\": input(\"Enter country: \"),\n",
    "    \"zip_code\": input(\"Enter zip code: \")\n",
    "}\n",
    "\n",
    "if validate_inputs(user_data):\n",
    "    print(\"All inputs provided. Processing data...\")\n",
    "    # Continue with your logic"
   ]
  },
  {
   "cell_type": "code",
   "execution_count": null,
   "id": "303b818c-bfda-4895-a2b9-ba0a2b65ea12",
   "metadata": {},
   "outputs": [],
   "source": []
  }
 ],
 "metadata": {
  "kernelspec": {
   "display_name": "Python 3 (ipykernel)",
   "language": "python",
   "name": "python3"
  },
  "language_info": {
   "codemirror_mode": {
    "name": "ipython",
    "version": 3
   },
   "file_extension": ".py",
   "mimetype": "text/x-python",
   "name": "python",
   "nbconvert_exporter": "python",
   "pygments_lexer": "ipython3",
   "version": "3.12.7"
  }
 },
 "nbformat": 4,
 "nbformat_minor": 5
}
