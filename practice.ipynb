{
 "cells": [
  {
   "cell_type": "code",
   "execution_count": 3,
   "id": "98d85fec-34bd-49d8-8fea-f4faa78d9a7d",
   "metadata": {},
   "outputs": [
    {
     "name": "stdout",
     "output_type": "stream",
     "text": [
      "hello\n"
     ]
    }
   ],
   "source": [
    "print('hello')"
   ]
  },
  {
   "cell_type": "code",
   "execution_count": 6,
   "id": "ff507203-3b3f-432c-8140-7d556aecc40e",
   "metadata": {},
   "outputs": [
    {
     "name": "stdout",
     "output_type": "stream",
     "text": [
      "cinic issue\n"
     ]
    }
   ],
   "source": [
    "age = 18\n",
    "if age:\n",
    "    print(\"cinic issue\")\n",
    "else:\n",
    "    print(\"cnic not issue\")"
   ]
  },
  {
   "cell_type": "code",
   "execution_count": 61,
   "id": "c387cce8-e00f-4a1f-af47-85c3eb8ef80b",
   "metadata": {},
   "outputs": [
    {
     "name": "stdout",
     "output_type": "stream",
     "text": [
      "average\n"
     ]
    }
   ],
   "source": [
    "marks= 54\n",
    "if marks > 90:\n",
    "    print(\"grade A\")\n",
    "elif marks > 80:\n",
    "    print(\"grade B\")\n",
    "elif marks > 70:\n",
    "    print(\"grade c\")\n",
    "elif marks > 60:\n",
    "    print(\"grade d\")\n",
    "elif marks > 50:\n",
    "    print(\"average\")\n",
    "elif marks <= 50:    \n",
    "    print(\"grade fail\")"
   ]
  },
  {
   "cell_type": "code",
   "execution_count": 17,
   "id": "7e9ad8b3-7eb2-4913-8310-0ad1d54087ad",
   "metadata": {},
   "outputs": [],
   "source": [
    "countries=[\n",
    "    \"pakistan\",\n",
    "    \"india\",\n",
    "    \"afghanistan\",\n",
    "    \"uae\"\n",
    "]\n"
   ]
  },
  {
   "cell_type": "code",
   "execution_count": 19,
   "id": "db14435e-0049-44c2-b132-72b3f4bea189",
   "metadata": {},
   "outputs": [
    {
     "data": {
      "text/plain": [
       "['pakistan', 'india', 'afghanistan', 'uae']"
      ]
     },
     "execution_count": 19,
     "metadata": {},
     "output_type": "execute_result"
    }
   ],
   "source": [
    "countries\n"
   ]
  },
  {
   "cell_type": "code",
   "execution_count": 20,
   "id": "a928ebe9-a188-4718-9faf-5af51f9452b5",
   "metadata": {},
   "outputs": [
    {
     "data": {
      "text/plain": [
       "['india', 'afghanistan', 'uae']"
      ]
     },
     "execution_count": 20,
     "metadata": {},
     "output_type": "execute_result"
    }
   ],
   "source": [
    "countries[1:]"
   ]
  },
  {
   "cell_type": "code",
   "execution_count": 23,
   "id": "e3036770-3e1a-4bf6-bd0f-eb283368d1de",
   "metadata": {},
   "outputs": [
    {
     "data": {
      "text/plain": [
       "[]"
      ]
     },
     "execution_count": 23,
     "metadata": {},
     "output_type": "execute_result"
    }
   ],
   "source": [
    "countries[-1:-2]"
   ]
  }
 ],
 "metadata": {
  "kernelspec": {
   "display_name": "Python 3 (ipykernel)",
   "language": "python",
   "name": "python3"
  },
  "language_info": {
   "codemirror_mode": {
    "name": "ipython",
    "version": 3
   },
   "file_extension": ".py",
   "mimetype": "text/x-python",
   "name": "python",
   "nbconvert_exporter": "python",
   "pygments_lexer": "ipython3",
   "version": "3.12.7"
  }
 },
 "nbformat": 4,
 "nbformat_minor": 5
}
