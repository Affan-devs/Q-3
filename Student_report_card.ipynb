{
 "cells": [
  {
   "cell_type": "code",
   "execution_count": 36,
   "id": "88b61603-8ea5-450f-bfda-2dac164c26b2",
   "metadata": {},
   "outputs": [
    {
     "name": "stdin",
     "output_type": "stream",
     "text": [
      "Enter Your Name:  Affan\n",
      "Enter Your Roll number:  303\n",
      "Enter Your Maths marks:  75\n",
      "Enter Your Physics Marks:  86\n",
      "Enter Your Engilsh marks:  46\n",
      "Enter Your Computer Marks:  97\n",
      "Enter Your Urdu Marks:  68\n",
      "To add another student Press Y, To get Report Card Press N:  N\n"
     ]
    },
    {
     "name": "stdout",
     "output_type": "stream",
     "text": [
      "\n",
      "------------/Report Card/------------\n",
      "Name: Affan\n",
      "Roll Number: 303\n",
      "Math Grade: A\n",
      "Physics Grade: A+\n",
      "English Grade: F\n",
      "Computer Grade: A+\n",
      "Urdu Grade: B\n",
      "Total Marks: 315 / 500\n",
      "Your Percentage: 63.0%\n",
      "Overall Grade: B\n",
      "------------/------------/------------\n"
     ]
    }
   ],
   "source": [
    "\n",
    "students = []\n",
    "while True:\n",
    "    student_name = input(\"Enter Your Name: \")\n",
    "    student_RollNum = int(input(\"Enter Your Roll number: \"))\n",
    "    student_MathsNum = int(input(\"Enter Your Maths marks: \"))\n",
    "    student_PhysicsNum = int(input(\"Enter Your Physics Marks: \"))\n",
    "    student_EngilshNum = int(input(\"Enter Your Engilsh marks: \"))\n",
    "    student_ComputerNum = int(input(\"Enter Your Computer Marks: \"))\n",
    "    student_UrduNum = int(input(\"Enter Your Urdu Marks: \"))\n",
    "    \n",
    "    students.append({\n",
    "        \"name\": student_name,\n",
    "        \"roll_number\": student_RollNum,\n",
    "        \"marks\": {\n",
    "            \"math\": student_MathsNum,\n",
    "            \"physics\": student_PhysicsNum,\n",
    "            \"english\": student_EngilshNum,\n",
    "            \"computer\": student_ComputerNum,\n",
    "            \"urdu\": student_UrduNum\n",
    "        },\n",
    "        \"total_marks\": total_Obtain_Marks,\n",
    "        \"percentage\": percentage\n",
    "    })\n",
    "    \n",
    "    student_cond = input(\"To add another student Press Y, To get Report Card Press N: \").upper()\n",
    "    \n",
    "    if student_cond == \"N\":\n",
    "        break \n",
    "    elif student_cond == \"Y\":\n",
    "        print(\"Enter details for the next student:\")\n",
    "    else:\n",
    "        print(\"Invalid input! Assuming you want to add another student.\")\n",
    "        print(\"Enter details for the next student:\")\n",
    "\n",
    "def gradeCondition(percentage):\n",
    "    if 40 <= percentage < 50:\n",
    "        return \"F\"\n",
    "    elif 50 <= percentage < 60:\n",
    "        return \"C\"\n",
    "    elif 60 <= percentage < 70:\n",
    "        return \"B\"\n",
    "    elif 70 <= percentage < 80:\n",
    "        return \"A\"\n",
    "    else:\n",
    "        return \"A+\"\n",
    "        \n",
    "    total_Obtain_Marks = (\n",
    "        student_MathsNum + student_PhysicsNum + student_EngilshNum + \n",
    "        student_ComputerNum + student_UrduNum\n",
    "    )\n",
    "    totalMarks = 500\n",
    "    percentage = (total_Obtain_Marks / totalMarks) * 100\n",
    "    \n",
    "for student in students:\n",
    "    print(\"\\n------------/Report Card/------------\")\n",
    "    print(f\"Name: {student['name']}\")\n",
    "    print(f\"Roll Number: {student['roll_number']}\")\n",
    "    print(f\"Math Grade: {gradeCondition(student['marks']['math'])}\")\n",
    "    print(f\"Physics Grade: {gradeCondition(student['marks']['physics'])}\")\n",
    "    print(f\"English Grade: {gradeCondition(student['marks']['english'])}\")\n",
    "    print(f\"Computer Grade: {gradeCondition(student['marks']['computer'])}\")\n",
    "    print(f\"Urdu Grade: {gradeCondition(student['marks']['urdu'])}\")\n",
    "    print(f\"Total Marks: {student['total_marks']} / {totalMarks}\")\n",
    "    print(f\"Your Percentage: {student['percentage']:}%\")\n",
    "    print(f\"Overall Grade: {gradeCondition(student['percentage'])}\")\n",
    "    print(\"------------/------------/------------\")"
   ]
  }
 ],
 "metadata": {
  "kernelspec": {
   "display_name": "Python 3 (ipykernel)",
   "language": "python",
   "name": "python3"
  },
  "language_info": {
   "codemirror_mode": {
    "name": "ipython",
    "version": 3
   },
   "file_extension": ".py",
   "mimetype": "text/x-python",
   "name": "python",
   "nbconvert_exporter": "python",
   "pygments_lexer": "ipython3",
   "version": "3.12.7"
  }
 },
 "nbformat": 4,
 "nbformat_minor": 5
}
